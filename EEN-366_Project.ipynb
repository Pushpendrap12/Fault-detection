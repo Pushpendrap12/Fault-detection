{
 "cells": [
  {
   "cell_type": "code",
   "execution_count": 21,
   "id": "e37e2db0-d91f-4477-9cd8-e67312cc230b",
   "metadata": {
    "id": "e37e2db0-d91f-4477-9cd8-e67312cc230b"
   },
   "outputs": [],
   "source": [
    "import numpy as np\n",
    "import pandas as pd\n",
    "import os\n",
    "\n",
    "import cv2\n",
    "import matplotlib.pyplot as plt\n",
    "from tslearn.preprocessing import TimeSeriesResampler\n",
    "from pyts.image import GramianAngularField\n",
    "\n",
    "\n",
    "from PIL import Image"
   ]
  },
  {
   "cell_type": "markdown",
   "id": "b2ec8bf6-8ea5-4615-9b51-07db14e82415",
   "metadata": {},
   "source": [
    "# Image conversion using GASF and appending images with corresponding classes in arrays X and y respectively"
   ]
  },
  {
   "cell_type": "code",
   "execution_count": 22,
   "id": "nH7mTHV_WjZB",
   "metadata": {
    "colab": {
     "base_uri": "https://localhost:8080/"
    },
    "id": "nH7mTHV_WjZB",
    "outputId": "e88bf504-a7ec-40d1-d6bb-787cd01d11ce"
   },
   "outputs": [
    {
     "name": "stdout",
     "output_type": "stream",
     "text": [
      "Drive already mounted at /content/drive; to attempt to forcibly remount, call drive.mount(\"/content/drive\", force_remount=True).\n"
     ]
    }
   ],
   "source": [
    "from google.colab import drive\n",
    "drive.mount('/content/drive')"
   ]
  },
  {
   "cell_type": "code",
   "execution_count": 23,
   "id": "734fd64c-7c84-4a26-a930-438e6072a21f",
   "metadata": {
    "id": "734fd64c-7c84-4a26-a930-438e6072a21f"
   },
   "outputs": [],
   "source": [
    "path ='/content/drive/MyDrive/EEN-366 project dataset'"
   ]
  },
  {
   "cell_type": "code",
   "execution_count": 24,
   "id": "644f753d-19e5-40f0-a52f-7d5ae264ac4d",
   "metadata": {
    "id": "644f753d-19e5-40f0-a52f-7d5ae264ac4d"
   },
   "outputs": [],
   "source": [
    "os.chdir(path)"
   ]
  },
  {
   "cell_type": "code",
   "execution_count": 25,
   "id": "e978723a-84c3-4f1c-9d3a-2982ce0f953f",
   "metadata": {
    "colab": {
     "base_uri": "https://localhost:8080/",
     "height": 36
    },
    "id": "e978723a-84c3-4f1c-9d3a-2982ce0f953f",
    "outputId": "d9f62f2d-ab68-443a-bbf6-a54e183a303d"
   },
   "outputs": [
    {
     "data": {
      "application/vnd.google.colaboratory.intrinsic+json": {
       "type": "string"
      },
      "text/plain": [
       "'/content/drive/MyDrive/EEN-366 project dataset'"
      ]
     },
     "execution_count": 25,
     "metadata": {},
     "output_type": "execute_result"
    }
   ],
   "source": [
    "pwd"
   ]
  },
  {
   "cell_type": "code",
   "execution_count": 26,
   "id": "1384b830-a848-4fdd-8a2c-6e881f5d749a",
   "metadata": {
    "id": "1384b830-a848-4fdd-8a2c-6e881f5d749a"
   },
   "outputs": [],
   "source": [
    "folder_list = ['LLL_csv_files', 'LLLG_csv_files', 'LL_csv_files', 'LLG_csv_files', 'SLG_csv_files']"
   ]
  },
  {
   "cell_type": "code",
   "execution_count": 27,
   "id": "13d91742-bc21-4dba-ac63-d3bc840ef21a",
   "metadata": {
    "colab": {
     "base_uri": "https://localhost:8080/"
    },
    "id": "13d91742-bc21-4dba-ac63-d3bc840ef21a",
    "outputId": "3ccac67c-8c23-4057-fd19-5f9dd055dbb1"
   },
   "outputs": [
    {
     "name": "stdout",
     "output_type": "stream",
     "text": [
      "LLL_csv_files\n",
      "LLLG_csv_files\n",
      "LL_csv_files\n",
      "LLG_csv_files\n",
      "SLG_csv_files\n"
     ]
    }
   ],
   "source": [
    "X = []\n",
    "y = []\n",
    "N = 200\n",
    "\n",
    "for i in range(len(folder_list)):\n",
    "    print(folder_list[i])\n",
    "    os.chdir(folder_list[i])\n",
    "\n",
    "\n",
    "    for j in range(N):\n",
    "        #print(j+1)\n",
    "\n",
    "        #reading data\n",
    "        filename = str(j+1)\n",
    "\n",
    "        data = pd.read_csv(filename)\n",
    "        Va = np.array(data['Unnamed: 0'])\n",
    "        Vb = np.array(data['Unnamed: 1'])\n",
    "        Vc = np.array(data['Unnamed: 2'])\n",
    "        Ia = np.array(data['Unnamed: 3'])\n",
    "        Ib = np.array(data['Unnamed: 4'])\n",
    "        Ic = np.array(data['Unnamed: 5'])\n",
    "\n",
    "\n",
    "        #scaling to [-1,1]\n",
    "        Va = Va/max(Va)\n",
    "        Vb = Vb/max(Vb)\n",
    "        Vc = Vc/max(Vc)\n",
    "        Ia = Ia/max(Ia)\n",
    "        Ib = Ib/max(Ib)\n",
    "        Ic = Ic/max(Ic)\n",
    "\n",
    "        #resampling to reduce array size\n",
    "        V = TimeSeriesResampler(sz=1000).fit_transform(Va)\n",
    "        Va = np.squeeze(V)\n",
    "        V = TimeSeriesResampler(sz=1000).fit_transform(Vb)\n",
    "        Vb = np.squeeze(V)\n",
    "        V = TimeSeriesResampler(sz=1000).fit_transform(Vc)\n",
    "        Vc = np.squeeze(V)\n",
    "\n",
    "        I = TimeSeriesResampler(sz=1000).fit_transform(Ia)\n",
    "        Ia = np.squeeze(I)\n",
    "        I = TimeSeriesResampler(sz=1000).fit_transform(Ib)\n",
    "        Ib = np.squeeze(I)\n",
    "        I = TimeSeriesResampler(sz=1000).fit_transform(Ic)\n",
    "        Ic = np.squeeze(I)\n",
    "\n",
    "        #reshaping the data\n",
    "        Va = Va.reshape(np.size(Va))\n",
    "        Va = np.array([Va])\n",
    "        Vb = Vb.reshape(np.size(Vb))\n",
    "        Vb = np.array([Vb])\n",
    "        Vc = Vc.reshape(np.size(Vc))\n",
    "        Vc = np.array([Vc])\n",
    "        Ia = Ia.reshape(np.size(Ia))\n",
    "        Ia = np.array([Ia])\n",
    "        Ib = Ib.reshape(np.size(Ib))\n",
    "        Ib = np.array([Ib])\n",
    "        Ic = Ic.reshape(np.size(Ic))\n",
    "        Ic = np.array([Ic])\n",
    "\n",
    "        # Compute Gramian angular fields\n",
    "        #for voltages\n",
    "        gasf = GramianAngularField(method='summation')\n",
    "        Va_gasf = gasf.fit_transform(Va)\n",
    "        gasf = GramianAngularField(method='summation')\n",
    "        Vb_gasf = gasf.fit_transform(Vb)\n",
    "        gasf = GramianAngularField(method='summation')\n",
    "        Vc_gasf = gasf.fit_transform(Vc)\n",
    "        #for currents\n",
    "        gasf = GramianAngularField(method='summation')\n",
    "        Ia_gasf = gasf.fit_transform(Ia)\n",
    "        gasf = GramianAngularField(method='summation')\n",
    "        Ib_gasf = gasf.fit_transform(Ib)\n",
    "        gasf = GramianAngularField(method='summation')\n",
    "        Ic_gasf = gasf.fit_transform(Ic)\n",
    "\n",
    "\n",
    "        #reshaping\n",
    "        n = np.shape(Va_gasf)[1]\n",
    "        Va_gasf = Va_gasf.reshape(n,n)\n",
    "        Vb_gasf = Vb_gasf.reshape(n,n)\n",
    "        Vc_gasf = Vc_gasf.reshape(n,n)\n",
    "\n",
    "        Ia_gasf = Ia_gasf.reshape(n,n)\n",
    "        Ib_gasf = Ib_gasf.reshape(n,n)\n",
    "        Ic_gasf = Ic_gasf.reshape(n,n)\n",
    "\n",
    "        #image  conversion\n",
    "        img0 = Image.fromarray((Va_gasf* 255).astype(np.uint8))\n",
    "        #print(np.shape(img0))\n",
    "        img1 = Image.fromarray((Vb_gasf* 255).astype(np.uint8))\n",
    "        img2 = Image.fromarray((Vc_gasf* 255).astype(np.uint8))\n",
    "        img3 = Image.fromarray((Ia_gasf* 255).astype(np.uint8))\n",
    "        img4 = Image.fromarray((Ib_gasf* 255).astype(np.uint8))\n",
    "        img5 = Image.fromarray((Ic_gasf* 255).astype(np.uint8))\n",
    "\n",
    "        #reducing image size\n",
    "        WIDTH = 150\n",
    "        HEIGHT = 150\n",
    "        img0 = img0.resize((WIDTH, HEIGHT))\n",
    "        img1 = img1.resize((WIDTH, HEIGHT))\n",
    "        img2 = img2.resize((WIDTH, HEIGHT))\n",
    "        img3 = img3.resize((WIDTH, HEIGHT))\n",
    "        img4 = img4.resize((WIDTH, HEIGHT))\n",
    "        img5 = img5.resize((WIDTH, HEIGHT))\n",
    "        #plt.imshow(img0)\n",
    "\n",
    "        #combining and stacking images\n",
    "        img0 = np.array(img0)\n",
    "        img1 = np.array(img1)\n",
    "        img2 = np.array(img2)\n",
    "        img3 = np.array(img3)\n",
    "        img4 = np.array(img4)\n",
    "        img5 = np.array(img5)\n",
    "\n",
    "\n",
    "        imga = np.concatenate((img0, img3), axis=1)\n",
    "        imgb = np.concatenate((img1, img4), axis=1)\n",
    "        imgc = np.concatenate((img2, img5), axis=1)\n",
    "        #print(np.shape(imga))\n",
    "        imga = np.array(imga)\n",
    "        imgb = np.array(imgb)\n",
    "        imgc = np.array(imgc)\n",
    "\n",
    "        imga = Image.fromarray((imga* 255).astype(np.uint8))\n",
    "        imgb = Image.fromarray((imgb* 255).astype(np.uint8))\n",
    "        imgc = Image.fromarray((imgc* 255).astype(np.uint8))\n",
    "\n",
    "\n",
    "        img = np.stack((imga,imgb,imgc), axis = 2)\n",
    "        X.append(img)\n",
    "        y.append(i)\n",
    "\n",
    "    os.chdir('..')\n",
    "\n",
    "\n",
    "\n",
    "\n"
   ]
  },
  {
   "cell_type": "code",
   "execution_count": 27,
   "id": "e6af4f59-ed39-418a-96c6-a5e4e0238e9b",
   "metadata": {
    "id": "e6af4f59-ed39-418a-96c6-a5e4e0238e9b"
   },
   "outputs": [],
   "source": []
  },
  {
   "cell_type": "code",
   "execution_count": 28,
   "id": "119a66a4-12a7-4edb-b869-ceac8ed0f4cb",
   "metadata": {
    "colab": {
     "base_uri": "https://localhost:8080/"
    },
    "id": "119a66a4-12a7-4edb-b869-ceac8ed0f4cb",
    "outputId": "bb147535-072d-48ce-b2a7-db86fb3d9b7a"
   },
   "outputs": [
    {
     "data": {
      "text/plain": [
       "(150, 300, 3)"
      ]
     },
     "execution_count": 28,
     "metadata": {},
     "output_type": "execute_result"
    }
   ],
   "source": [
    "img = X[0]\n",
    "np.shape(img)"
   ]
  },
  {
   "cell_type": "code",
   "execution_count": 29,
   "id": "3e9e5d6f-6436-4af7-a631-7b2427707eb4",
   "metadata": {
    "colab": {
     "base_uri": "https://localhost:8080/"
    },
    "id": "3e9e5d6f-6436-4af7-a631-7b2427707eb4",
    "outputId": "1dfa555e-37dd-4c81-d7d0-dad5a5f4f797"
   },
   "outputs": [
    {
     "name": "stdout",
     "output_type": "stream",
     "text": [
      "(1000, 150, 300, 3)\n",
      "(1000,)\n"
     ]
    }
   ],
   "source": [
    "print(np.shape(X))\n",
    "print(np.shape(y))"
   ]
  },
  {
   "cell_type": "code",
   "execution_count": 45,
   "id": "sMzMWZrWbjrq",
   "metadata": {
    "id": "sMzMWZrWbjrq"
   },
   "outputs": [],
   "source": []
  },
  {
   "cell_type": "markdown",
   "id": "693fa1cb-a42e-495d-ab26-2ac9ed5b4d26",
   "metadata": {
    "id": "faf4d7a5-023e-4b66-a496-ca230d53ffdc"
   },
   "source": [
    "# Splitting data into test and train dataset"
   ]
  },
  {
   "cell_type": "code",
   "execution_count": 20,
   "id": "961f1502-af82-4fd7-b14c-0bcb7f334458",
   "metadata": {
    "id": "961f1502-af82-4fd7-b14c-0bcb7f334458"
   },
   "outputs": [],
   "source": [
    "import keras\n",
    "from sklearn.model_selection import train_test_split"
   ]
  },
  {
   "cell_type": "code",
   "execution_count": 37,
   "id": "fYAZ5NKdfyYm",
   "metadata": {
    "colab": {
     "base_uri": "https://localhost:8080/"
    },
    "id": "fYAZ5NKdfyYm",
    "outputId": "e1313e86-c01c-425e-99e3-6d19f5f328fc"
   },
   "outputs": [
    {
     "name": "stdout",
     "output_type": "stream",
     "text": [
      "(1000, 150, 300, 3)\n",
      "(1000,)\n"
     ]
    }
   ],
   "source": [
    "X = np.array(X)\n",
    "y = y.reshape(np.shape(y)[0])\n",
    "y = np.array(y)\n",
    "print(np.shape(X))\n",
    "print(np.shape(y))"
   ]
  },
  {
   "cell_type": "code",
   "execution_count": 40,
   "id": "BRBd-KwceQ3r",
   "metadata": {
    "id": "BRBd-KwceQ3r"
   },
   "outputs": [],
   "source": [
    "y_categorical = keras.utils.to_categorical(y, num_classes = 5)\n"
   ]
  },
  {
   "cell_type": "code",
   "execution_count": 64,
   "id": "462bafa9-47ee-4bdf-935e-d9e77b44009b",
   "metadata": {
    "id": "462bafa9-47ee-4bdf-935e-d9e77b44009b"
   },
   "outputs": [],
   "source": [
    "X_train, X_test, y_train, y_test = train_test_split(X, y_categorical, test_size=0.1, random_state=42)"
   ]
  },
  {
   "cell_type": "code",
   "execution_count": 66,
   "id": "d9ccf52f-9f5c-4d04-8639-d8704edd3f2d",
   "metadata": {
    "colab": {
     "base_uri": "https://localhost:8080/"
    },
    "id": "d9ccf52f-9f5c-4d04-8639-d8704edd3f2d",
    "outputId": "a77ceadd-8b38-4475-89ad-11d142b14aa3"
   },
   "outputs": [
    {
     "name": "stdout",
     "output_type": "stream",
     "text": [
      "X_train:  900\n",
      "X_test: 100\n"
     ]
    }
   ],
   "source": [
    "print('X_train: ', len(X_train))\n",
    "print('X_test:', len(X_test))\n",
    "\n"
   ]
  },
  {
   "cell_type": "code",
   "execution_count": null,
   "id": "3242825a-acbb-4063-b932-6266c36eb193",
   "metadata": {
    "id": "3242825a-acbb-4063-b932-6266c36eb193"
   },
   "outputs": [],
   "source": []
  },
  {
   "cell_type": "markdown",
   "id": "49c26e89-efe0-42cd-a209-7f3f59268fa3",
   "metadata": {
    "id": "67f865e5-deed-4fff-a2b5-18d9190883fa"
   },
   "source": [
    "# CNN implementation with Transfer Learning"
   ]
  },
  {
   "cell_type": "code",
   "execution_count": 68,
   "id": "f1c5df43-b8a5-4fb0-b04e-41ad48d67d73",
   "metadata": {
    "id": "f1c5df43-b8a5-4fb0-b04e-41ad48d67d73"
   },
   "outputs": [],
   "source": [
    "import numpy as np\n",
    "import pandas as pd\n",
    "import matplotlib.pyplot as plt\n",
    "\n",
    "from PIL import Image\n",
    "from pathlib import Path\n",
    "import os\n",
    "\n",
    "\n",
    "import keras\n",
    "from keras.applications.resnet50 import ResNet50\n",
    "from keras.models import Model\n",
    "from keras.optimizers import Adam\n",
    "\n",
    "#from keras.applications.vgg16 import VGG16, preprocess_input\n",
    "#from keras.preprocessing.image import ImageDataGenerator\n",
    "\n",
    "from keras.callbacks import ModelCheckpoint, EarlyStopping\n",
    "from keras.layers import Dense, Dropout, Flatten\n",
    "\n"
   ]
  },
  {
   "cell_type": "code",
   "execution_count": 69,
   "id": "0184fc38-9f92-4689-ab9f-b4cd459778f8",
   "metadata": {
    "id": "0184fc38-9f92-4689-ab9f-b4cd459778f8"
   },
   "outputs": [],
   "source": [
    "base_model = ResNet50(\n",
    "    weights=\"imagenet\",  # Load weights pre-trained on ImageNet.\n",
    "    input_shape=None,\n",
    "    include_top=False,\n",
    ")\n",
    "\n",
    "base_model.trainable = False"
   ]
  },
  {
   "cell_type": "code",
   "execution_count": 70,
   "id": "ecf56c16-270b-4a62-80ba-9e942a93fbb0",
   "metadata": {
    "id": "ecf56c16-270b-4a62-80ba-9e942a93fbb0"
   },
   "outputs": [],
   "source": [
    "inputs = keras.Input(shape=(150, 300, 3))\n",
    "\n",
    "scale_layer = keras.layers.Rescaling(scale=1/127.5, offset=-1)\n",
    "x = scale_layer(inputs)\n",
    "\n",
    "x = base_model(x, training=False)\n",
    "\n",
    "x = keras.layers.GlobalAveragePooling2D()(x)\n",
    "x = keras.layers.Dropout(0.2)(x)\n",
    "\n",
    "outputs = keras.layers.Dense(5, activation = 'sigmoid')(x)\n",
    "\n",
    "model = keras.Model(inputs, outputs)"
   ]
  },
  {
   "cell_type": "code",
   "execution_count": 71,
   "id": "b74b41fa-ae7f-4764-bebd-fa8148ea1b7e",
   "metadata": {
    "colab": {
     "base_uri": "https://localhost:8080/"
    },
    "id": "b74b41fa-ae7f-4764-bebd-fa8148ea1b7e",
    "outputId": "37d1fbdc-830a-4f3e-8c02-35fd796eb286"
   },
   "outputs": [
    {
     "name": "stdout",
     "output_type": "stream",
     "text": [
      "Model: \"model_2\"\n",
      "____________________________________________________________________________\n",
      " Layer (type)                Output Shape              Param #   Trainable  \n",
      "============================================================================\n",
      " input_6 (InputLayer)        [(None, 150, 300, 3)]     0         Y          \n",
      "                                                                            \n",
      " rescaling_2 (Rescaling)     (None, 150, 300, 3)       0         Y          \n",
      "                                                                            \n",
      " resnet50 (Functional)       (None, None, None, 2048   2358771   N          \n",
      "                             )                         2                    \n",
      "                                                                            \n",
      " global_average_pooling2d_2  (None, 2048)              0         Y          \n",
      "  (GlobalAveragePooling2D)                                                  \n",
      "                                                                            \n",
      " dropout_2 (Dropout)         (None, 2048)              0         Y          \n",
      "                                                                            \n",
      " dense_2 (Dense)             (None, 5)                 10245     Y          \n",
      "                                                                            \n",
      "============================================================================\n",
      "Total params: 23597957 (90.02 MB)\n",
      "Trainable params: 10245 (40.02 KB)\n",
      "Non-trainable params: 23587712 (89.98 MB)\n",
      "____________________________________________________________________________\n"
     ]
    }
   ],
   "source": [
    "model.summary(show_trainable=True)"
   ]
  },
  {
   "cell_type": "code",
   "execution_count": 72,
   "id": "a22119f5-f1ba-4f21-920f-fc93fc5f001e",
   "metadata": {
    "id": "a22119f5-f1ba-4f21-920f-fc93fc5f001e"
   },
   "outputs": [],
   "source": [
    "model.compile(loss=keras.metrics.categorical_crossentropy, optimizer=keras.optimizers.Adam(learning_rate = 0.001), metrics=['accuracy'])"
   ]
  },
  {
   "cell_type": "code",
   "execution_count": 72,
   "id": "458e1df0-8729-4d3a-a4cb-095ba9e14dc4",
   "metadata": {
    "id": "458e1df0-8729-4d3a-a4cb-095ba9e14dc4"
   },
   "outputs": [],
   "source": []
  },
  {
   "cell_type": "code",
   "execution_count": 73,
   "id": "4871d4f0-c61c-49a8-909a-ecb1c90280a1",
   "metadata": {
    "colab": {
     "base_uri": "https://localhost:8080/"
    },
    "id": "4871d4f0-c61c-49a8-909a-ecb1c90280a1",
    "outputId": "c6ea886e-c784-4826-93e6-f6a6fb4aa825"
   },
   "outputs": [
    {
     "name": "stdout",
     "output_type": "stream",
     "text": [
      "Epoch 1/25\n",
      "29/29 [==============================] - 180s 6s/step - loss: 1.6668 - accuracy: 0.2344\n",
      "Epoch 2/25\n",
      "29/29 [==============================] - 171s 6s/step - loss: 1.5617 - accuracy: 0.2833\n",
      "Epoch 3/25\n",
      "29/29 [==============================] - 171s 6s/step - loss: 1.4906 - accuracy: 0.3256\n",
      "Epoch 4/25\n",
      "29/29 [==============================] - 171s 6s/step - loss: 1.4550 - accuracy: 0.3700\n",
      "Epoch 5/25\n",
      "29/29 [==============================] - 173s 6s/step - loss: 1.4447 - accuracy: 0.3600\n",
      "Epoch 6/25\n",
      "29/29 [==============================] - 168s 6s/step - loss: 1.4163 - accuracy: 0.3778\n",
      "Epoch 7/25\n",
      "29/29 [==============================] - 173s 6s/step - loss: 1.4224 - accuracy: 0.3689\n",
      "Epoch 8/25\n",
      "29/29 [==============================] - 170s 6s/step - loss: 1.3731 - accuracy: 0.4089\n",
      "Epoch 9/25\n",
      "29/29 [==============================] - 172s 6s/step - loss: 1.3677 - accuracy: 0.4022\n",
      "Epoch 10/25\n",
      "29/29 [==============================] - 171s 6s/step - loss: 1.3783 - accuracy: 0.3744\n",
      "Epoch 11/25\n",
      "29/29 [==============================] - 173s 6s/step - loss: 1.3471 - accuracy: 0.4333\n",
      "Epoch 12/25\n",
      "29/29 [==============================] - 168s 6s/step - loss: 1.3586 - accuracy: 0.4067\n",
      "Epoch 13/25\n",
      "29/29 [==============================] - 171s 6s/step - loss: 1.3347 - accuracy: 0.4289\n",
      "Epoch 14/25\n",
      "29/29 [==============================] - 171s 6s/step - loss: 1.3566 - accuracy: 0.4122\n",
      "Epoch 15/25\n",
      "29/29 [==============================] - 171s 6s/step - loss: 1.3128 - accuracy: 0.4400\n",
      "Epoch 16/25\n",
      "29/29 [==============================] - 172s 6s/step - loss: 1.3010 - accuracy: 0.4522\n",
      "Epoch 17/25\n",
      "29/29 [==============================] - 177s 6s/step - loss: 1.3170 - accuracy: 0.4544\n",
      "Epoch 18/25\n",
      "29/29 [==============================] - 174s 6s/step - loss: 1.3139 - accuracy: 0.4200\n",
      "Epoch 19/25\n",
      "29/29 [==============================] - 170s 6s/step - loss: 1.3072 - accuracy: 0.4256\n",
      "Epoch 20/25\n",
      "29/29 [==============================] - 172s 6s/step - loss: 1.3286 - accuracy: 0.4078\n",
      "Epoch 21/25\n",
      "29/29 [==============================] - 170s 6s/step - loss: 1.2996 - accuracy: 0.4389\n",
      "Epoch 22/25\n",
      "29/29 [==============================] - 172s 6s/step - loss: 1.2894 - accuracy: 0.4367\n",
      "Epoch 23/25\n",
      "29/29 [==============================] - 170s 6s/step - loss: 1.2788 - accuracy: 0.4578\n",
      "Epoch 24/25\n",
      "29/29 [==============================] - 173s 6s/step - loss: 1.2777 - accuracy: 0.4367\n",
      "Epoch 25/25\n",
      "29/29 [==============================] - 171s 6s/step - loss: 1.2684 - accuracy: 0.4611\n"
     ]
    }
   ],
   "source": [
    "#training\n",
    "epochs = 25\n",
    "history =  model.fit(X_train, y_train, epochs=epochs)"
   ]
  },
  {
   "cell_type": "code",
   "execution_count": null,
   "id": "DJio8Rw8ovTS",
   "metadata": {
    "id": "DJio8Rw8ovTS"
   },
   "outputs": [],
   "source": []
  },
  {
   "cell_type": "code",
   "execution_count": null,
   "id": "85a0129b-ecc7-43a4-aa1f-803ccfc45a9f",
   "metadata": {},
   "outputs": [],
   "source": []
  },
  {
   "cell_type": "markdown",
   "id": "911a3a52-6876-42a9-b462-513fa0bc9979",
   "metadata": {},
   "source": [
    "# Feature extraction"
   ]
  },
  {
   "cell_type": "code",
   "execution_count": 2,
   "id": "88de06dc-39e8-4b9c-9c15-f574977b3da8",
   "metadata": {
    "colab": {
     "base_uri": "https://localhost:8080/",
     "height": 211
    },
    "id": "88de06dc-39e8-4b9c-9c15-f574977b3da8",
    "outputId": "18ff85d5-92c1-4896-e703-95228e9cea15"
   },
   "outputs": [
    {
     "ename": "NameError",
     "evalue": "name 'keras' is not defined",
     "output_type": "error",
     "traceback": [
      "\u001b[0;31m---------------------------------------------------------------------------\u001b[0m",
      "\u001b[0;31mNameError\u001b[0m                                 Traceback (most recent call last)",
      "\u001b[0;32m<ipython-input-2-7cfcc31f9e3e>\u001b[0m in \u001b[0;36m<cell line: 3>\u001b[0;34m()\u001b[0m\n\u001b[1;32m      1\u001b[0m \u001b[0;31m#feature extraction\u001b[0m\u001b[0;34m\u001b[0m\u001b[0;34m\u001b[0m\u001b[0m\n\u001b[1;32m      2\u001b[0m \u001b[0mindex\u001b[0m \u001b[0;34m=\u001b[0m \u001b[0;36m5\u001b[0m\u001b[0;34m\u001b[0m\u001b[0;34m\u001b[0m\u001b[0m\n\u001b[0;32m----> 3\u001b[0;31m feature_extractor = keras.Model(\n\u001b[0m\u001b[1;32m      4\u001b[0m     \u001b[0minputs\u001b[0m\u001b[0;34m=\u001b[0m\u001b[0mmodel\u001b[0m\u001b[0;34m.\u001b[0m\u001b[0minputs\u001b[0m\u001b[0;34m,\u001b[0m\u001b[0;34m\u001b[0m\u001b[0;34m\u001b[0m\u001b[0m\n\u001b[1;32m      5\u001b[0m     \u001b[0moutputs\u001b[0m\u001b[0;34m=\u001b[0m\u001b[0mmodel\u001b[0m\u001b[0;34m.\u001b[0m\u001b[0mget_layer\u001b[0m\u001b[0;34m(\u001b[0m\u001b[0mindex\u001b[0m\u001b[0;34m=\u001b[0m\u001b[0mindex\u001b[0m\u001b[0;34m)\u001b[0m\u001b[0;34m.\u001b[0m\u001b[0moutput\u001b[0m\u001b[0;34m,\u001b[0m\u001b[0;34m\u001b[0m\u001b[0;34m\u001b[0m\u001b[0m\n",
      "\u001b[0;31mNameError\u001b[0m: name 'keras' is not defined"
     ]
    }
   ],
   "source": [
    "#feature extraction\n",
    "index = 5\n",
    "feature_extractor = keras.Model(\n",
    "    inputs=model.inputs,\n",
    "    outputs=model.get_layer(index=index).output,\n",
    ")"
   ]
  },
  {
   "cell_type": "code",
   "execution_count": null,
   "id": "6f5632a0-977f-4914-9f9d-9cad2ff45667",
   "metadata": {
    "id": "6f5632a0-977f-4914-9f9d-9cad2ff45667"
   },
   "outputs": [],
   "source": [
    "X_new = feature_extractor(X)"
   ]
  },
  {
   "cell_type": "code",
   "execution_count": null,
   "id": "3f6845c1-d9d0-4b77-b712-7acd79958719",
   "metadata": {
    "id": "3f6845c1-d9d0-4b77-b712-7acd79958719"
   },
   "outputs": [],
   "source": [
    "X_new.shape"
   ]
  },
  {
   "cell_type": "code",
   "execution_count": null,
   "id": "61911ca1-1144-4521-9820-862210e85e5e",
   "metadata": {
    "id": "61911ca1-1144-4521-9820-862210e85e5e"
   },
   "outputs": [],
   "source": []
  },
  {
   "cell_type": "markdown",
   "id": "1d2fd664-9d51-4bcb-9ec9-44b6a74722bc",
   "metadata": {
    "id": "f2ad019d-6e5f-4403-8f42-60a77de276b3"
   },
   "source": [
    "# SVM classifier"
   ]
  },
  {
   "cell_type": "code",
   "execution_count": null,
   "id": "da167c1e-42b2-49ff-8e89-be3ec0e00bc7",
   "metadata": {},
   "outputs": [],
   "source": [
    "from sklearn.model_selection import train_test_split\n",
    "X_train, X_test, y_train, y_test = train_test_split(X_new, y, test_size=0.2, random_state = 5102023)"
   ]
  },
  {
   "cell_type": "code",
   "execution_count": null,
   "id": "5306484a-6388-4d32-a168-e0a812bf32ff",
   "metadata": {
    "id": "5306484a-6388-4d32-a168-e0a812bf32ff"
   },
   "outputs": [],
   "source": [
    "from sklearn.svm import SVC\n",
    "from sklearn.metrics import accuracy_score,confusion_matrix"
   ]
  },
  {
   "cell_type": "code",
   "execution_count": null,
   "id": "3530c67b-4252-4111-a391-dadab2f8721c",
   "metadata": {
    "id": "3530c67b-4252-4111-a391-dadab2f8721c"
   },
   "outputs": [],
   "source": [
    "model = SVC(kernel = 'rbf')"
   ]
  },
  {
   "cell_type": "code",
   "execution_count": null,
   "id": "3d2723a2-758c-4135-8c37-cb3cbdcaf203",
   "metadata": {
    "id": "3d2723a2-758c-4135-8c37-cb3cbdcaf203"
   },
   "outputs": [],
   "source": [
    "model.fit(X_train,y_train)"
   ]
  },
  {
   "cell_type": "code",
   "execution_count": null,
   "id": "fd376e43-e1fa-44ed-a4bf-ebdd692506e8",
   "metadata": {
    "id": "fd376e43-e1fa-44ed-a4bf-ebdd692506e8"
   },
   "outputs": [],
   "source": [
    "predictedtrain = model.predict(X_train)\n",
    "accuracy_score(y_train,predictedtrain)"
   ]
  },
  {
   "cell_type": "code",
   "execution_count": null,
   "id": "67703a48-1ddd-4403-b5ba-e53363083a5e",
   "metadata": {
    "id": "67703a48-1ddd-4403-b5ba-e53363083a5e"
   },
   "outputs": [],
   "source": [
    "predictedtest = model.predict(X_test)\n",
    "accuracy_score(y_test,predictedtest)"
   ]
  },
  {
   "cell_type": "code",
   "execution_count": null,
   "id": "orgBhecbasib",
   "metadata": {
    "id": "orgBhecbasib"
   },
   "outputs": [],
   "source": []
  }
 ],
 "metadata": {
  "colab": {
   "provenance": []
  },
  "kernelspec": {
   "display_name": "Python 3 (ipykernel)",
   "language": "python",
   "name": "python3"
  },
  "language_info": {
   "codemirror_mode": {
    "name": "ipython",
    "version": 3
   },
   "file_extension": ".py",
   "mimetype": "text/x-python",
   "name": "python",
   "nbconvert_exporter": "python",
   "pygments_lexer": "ipython3",
   "version": "3.12.0"
  }
 },
 "nbformat": 4,
 "nbformat_minor": 5
}
